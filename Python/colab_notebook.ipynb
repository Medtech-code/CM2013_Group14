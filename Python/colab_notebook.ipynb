{
 "cells": [
  {
   "cell_type": "markdown",
   "metadata": {},
   "source": [
    "# Sleep Scoring Project - Google Colab Notebook\n",
    "\n",
    "This notebook allows you to run the Python sleep scoring pipeline in a Google Colab environment.\n",
    "\n",
    "## 🚀 How to Use\n",
    "\n",
    "1.  **Clone the Repository:** Run the first code cell to clone the project repository from GitHub.\n",
    "2.  **Install Dependencies:** The second cell installs the necessary Python packages.\n",
    "3.  **Configure Pipeline:** The third cell updates the configuration to use the sample data.\n",
    "4.  **Run the Pipeline:** The main part of the notebook is in the fourth cell, which runs the complete sleep scoring pipeline.\n",
    "5.  **View Results:** The results, including visualizations and reports, will be displayed in the notebook."
   ]
  },
  {
   "cell_type": "code",
   "execution_count": null,
   "metadata": {},
   "outputs": [],
   "source": [
    "# 1. Clone the Repository\n",
    "!git clone https://github.com/your-username/your-repository-name.git\n",
    "%cd your-repository-name/Python"
   ]
  },
  {
   "cell_type": "code",
   "execution_count": null,
   "metadata": {},
   "outputs": [],
   "source": [
    "# 2. Install Dependencies\n",
    "!pip install -r requirements.txt"
   ]
  },
  {
   "cell_type": "code",
   "execution_count": null,
   "metadata": {},
   "outputs": [],
   "source": [
    "# 3. Configure Pipeline\n",
    "import config\n",
    "config.TRAINING_DIR = f'{config.DATA_DIR}sample/'"
   ]
  },
  {
   "cell_type": "code",
   "execution_count": null,
   "metadata": {},
   "outputs": [],
   "source": [
    "# 4. Run the Pipeline\n",
    "import sys\n",
    "sys.path.append('../')\n",
    "from Python import main\n",
    "main.main()"
   ]
  }
 ],
 "metadata": {
  "kernelspec": {
   "display_name": "Python 3",
   "language": "python",
   "name": "python3"
  },
  "language_info": {
   "codemirror_mode": {
    "name": "ipython",
    "version": 3
   },
   "file_extension": ".py",
   "mimetype": "text/x-python",
   "name": "python",
   "nbconvert_exporter": "python",
   "pygments_lexer": "ipython3",
   "version": "3.10.9"
  }
 },
 "nbformat": 4,
 "nbformat_minor": 4
}